{
 "cells": [
  {
   "cell_type": "code",
   "execution_count": 1,
   "metadata": {
    "ExecuteTime": {
     "end_time": "2017-05-15T11:46:06.197038Z",
     "start_time": "2017-05-15T11:46:06.194146Z"
    },
    "collapsed": true
   },
   "outputs": [],
   "source": [
    "s = 'abc'"
   ]
  },
  {
   "cell_type": "code",
   "execution_count": 2,
   "metadata": {
    "ExecuteTime": {
     "end_time": "2017-05-15T11:47:32.980691Z",
     "start_time": "2017-05-15T11:47:32.968018Z"
    }
   },
   "outputs": [
    {
     "data": {
      "text/plain": [
       "'ABC'"
      ]
     },
     "execution_count": 2,
     "metadata": {},
     "output_type": "execute_result"
    }
   ],
   "source": [
    "s.upper()"
   ]
  },
  {
   "cell_type": "code",
   "execution_count": 3,
   "metadata": {
    "ExecuteTime": {
     "end_time": "2017-05-15T11:49:20.809601Z",
     "start_time": "2017-05-15T11:49:20.801415Z"
    }
   },
   "outputs": [
    {
     "data": {
      "text/plain": [
       "{'FormatCode': <function yapf.yapflib.yapf_api.FormatCode>,\n",
       " 'In': ['',\n",
       "  u\"s = 'abc'\",\n",
       "  u's.upper()',\n",
       "  u'# L E G B\\n# local\\n# enclosing\\n# global\\n# builtins\\nglobals()'],\n",
       " 'Out': {2: 'ABC'},\n",
       " '_': 'ABC',\n",
       " '_2': 'ABC',\n",
       " '__': '',\n",
       " '___': '',\n",
       " '__builtin__': <module '__builtin__' (built-in)>,\n",
       " '__builtins__': <module '__builtin__' (built-in)>,\n",
       " '__doc__': 'Automatically created module for IPython interactive environment',\n",
       " '__name__': '__main__',\n",
       " '__package__': None,\n",
       " '_dh': [u'/Users/reuven/Desktop'],\n",
       " '_i': u's.upper()',\n",
       " '_i1': u\"s = 'abc'\",\n",
       " '_i2': u's.upper()',\n",
       " '_i3': u'# L E G B\\n# local\\n# enclosing\\n# global\\n# builtins\\nglobals()',\n",
       " '_ih': ['',\n",
       "  u\"s = 'abc'\",\n",
       "  u's.upper()',\n",
       "  u'# L E G B\\n# local\\n# enclosing\\n# global\\n# builtins\\nglobals()'],\n",
       " '_ii': u\"s = 'abc'\",\n",
       " '_iii': u'',\n",
       " '_oh': {2: 'ABC'},\n",
       " '_sh': <module 'IPython.core.shadowns' from '/usr/local/lib/python2.7/site-packages/IPython/core/shadowns.pyc'>,\n",
       " 'exit': <IPython.core.autocall.ZMQExitAutocall at 0x11016bb90>,\n",
       " 'get_ipython': <bound method ZMQInteractiveShell.get_ipython of <ipykernel.zmqshell.ZMQInteractiveShell object at 0x10ff5dc90>>,\n",
       " 'quit': <IPython.core.autocall.ZMQExitAutocall at 0x11016bb90>,\n",
       " 's': 'abc'}"
      ]
     },
     "execution_count": 3,
     "metadata": {},
     "output_type": "execute_result"
    }
   ],
   "source": [
    "# L E G B\n",
    "# local\n",
    "# enclosing\n",
    "# global\n",
    "# builtins\n",
    "globals()"
   ]
  },
  {
   "cell_type": "code",
   "execution_count": 4,
   "metadata": {
    "ExecuteTime": {
     "end_time": "2017-05-15T11:49:37.841038Z",
     "start_time": "2017-05-15T11:49:37.836315Z"
    }
   },
   "outputs": [
    {
     "data": {
      "text/plain": [
       "'abc'"
      ]
     },
     "execution_count": 4,
     "metadata": {},
     "output_type": "execute_result"
    }
   ],
   "source": [
    "globals()['s']"
   ]
  },
  {
   "cell_type": "code",
   "execution_count": 5,
   "metadata": {
    "ExecuteTime": {
     "end_time": "2017-05-15T11:49:48.778118Z",
     "start_time": "2017-05-15T11:49:48.773587Z"
    }
   },
   "outputs": [
    {
     "data": {
      "text/plain": [
       "'ABC'"
      ]
     },
     "execution_count": 5,
     "metadata": {},
     "output_type": "execute_result"
    }
   ],
   "source": [
    "s.upper()"
   ]
  },
  {
   "cell_type": "code",
   "execution_count": 6,
   "metadata": {
    "ExecuteTime": {
     "end_time": "2017-05-15T11:50:22.139845Z",
     "start_time": "2017-05-15T11:50:22.131640Z"
    }
   },
   "outputs": [
    {
     "data": {
      "text/plain": [
       "['__add__',\n",
       " '__class__',\n",
       " '__contains__',\n",
       " '__delattr__',\n",
       " '__doc__',\n",
       " '__eq__',\n",
       " '__format__',\n",
       " '__ge__',\n",
       " '__getattribute__',\n",
       " '__getitem__',\n",
       " '__getnewargs__',\n",
       " '__getslice__',\n",
       " '__gt__',\n",
       " '__hash__',\n",
       " '__init__',\n",
       " '__le__',\n",
       " '__len__',\n",
       " '__lt__',\n",
       " '__mod__',\n",
       " '__mul__',\n",
       " '__ne__',\n",
       " '__new__',\n",
       " '__reduce__',\n",
       " '__reduce_ex__',\n",
       " '__repr__',\n",
       " '__rmod__',\n",
       " '__rmul__',\n",
       " '__setattr__',\n",
       " '__sizeof__',\n",
       " '__str__',\n",
       " '__subclasshook__',\n",
       " '_formatter_field_name_split',\n",
       " '_formatter_parser',\n",
       " 'capitalize',\n",
       " 'center',\n",
       " 'count',\n",
       " 'decode',\n",
       " 'encode',\n",
       " 'endswith',\n",
       " 'expandtabs',\n",
       " 'find',\n",
       " 'format',\n",
       " 'index',\n",
       " 'isalnum',\n",
       " 'isalpha',\n",
       " 'isdigit',\n",
       " 'islower',\n",
       " 'isspace',\n",
       " 'istitle',\n",
       " 'isupper',\n",
       " 'join',\n",
       " 'ljust',\n",
       " 'lower',\n",
       " 'lstrip',\n",
       " 'partition',\n",
       " 'replace',\n",
       " 'rfind',\n",
       " 'rindex',\n",
       " 'rjust',\n",
       " 'rpartition',\n",
       " 'rsplit',\n",
       " 'rstrip',\n",
       " 'split',\n",
       " 'splitlines',\n",
       " 'startswith',\n",
       " 'strip',\n",
       " 'swapcase',\n",
       " 'title',\n",
       " 'translate',\n",
       " 'upper',\n",
       " 'zfill']"
      ]
     },
     "execution_count": 6,
     "metadata": {},
     "output_type": "execute_result"
    }
   ],
   "source": [
    "dir(s)"
   ]
  },
  {
   "cell_type": "code",
   "execution_count": 7,
   "metadata": {
    "ExecuteTime": {
     "end_time": "2017-05-15T11:51:13.389142Z",
     "start_time": "2017-05-15T11:51:13.384451Z"
    }
   },
   "outputs": [
    {
     "data": {
      "text/plain": [
       "'Abc'"
      ]
     },
     "execution_count": 7,
     "metadata": {},
     "output_type": "execute_result"
    }
   ],
   "source": [
    "s.title()"
   ]
  },
  {
   "cell_type": "code",
   "execution_count": 8,
   "metadata": {
    "ExecuteTime": {
     "end_time": "2017-05-15T11:51:27.610148Z",
     "start_time": "2017-05-15T11:51:27.605006Z"
    }
   },
   "outputs": [
    {
     "data": {
      "text/plain": [
       "'This Is A Bunch Of Words To Show To People'"
      ]
     },
     "execution_count": 8,
     "metadata": {},
     "output_type": "execute_result"
    }
   ],
   "source": [
    "x = 'this is a bunch of words to show to people'\n",
    "x.title()"
   ]
  },
  {
   "cell_type": "code",
   "execution_count": 9,
   "metadata": {
    "ExecuteTime": {
     "end_time": "2017-05-15T11:52:16.099521Z",
     "start_time": "2017-05-15T11:52:16.016203Z"
    }
   },
   "outputs": [
    {
     "name": "stdout",
     "output_type": "stream",
     "text": [
      "__add__"
     ]
    },
    {
     "ename": "AttributeError",
     "evalue": "'str' object has no attribute 'attrname'",
     "output_type": "error",
     "traceback": [
      "\u001b[0;31m---------------------------------------------------------------------------\u001b[0m",
      "\u001b[0;31mAttributeError\u001b[0m                            Traceback (most recent call last)",
      "\u001b[0;32m<ipython-input-9-62f8b47659a6>\u001b[0m in \u001b[0;36m<module>\u001b[0;34m()\u001b[0m\n\u001b[1;32m      1\u001b[0m \u001b[0;32mfor\u001b[0m \u001b[0mattrname\u001b[0m \u001b[0;32min\u001b[0m \u001b[0mdir\u001b[0m\u001b[0;34m(\u001b[0m\u001b[0ms\u001b[0m\u001b[0;34m)\u001b[0m\u001b[0;34m:\u001b[0m\u001b[0;34m\u001b[0m\u001b[0m\n\u001b[0;32m----> 2\u001b[0;31m     \u001b[0;32mprint\u001b[0m \u001b[0mattrname\u001b[0m\u001b[0;34m,\u001b[0m \u001b[0ms\u001b[0m\u001b[0;34m.\u001b[0m\u001b[0mattrname\u001b[0m\u001b[0;34m\u001b[0m\u001b[0m\n\u001b[0m",
      "\u001b[0;31mAttributeError\u001b[0m: 'str' object has no attribute 'attrname'"
     ]
    }
   ],
   "source": [
    "for attrname in dir(s):\n",
    "    print attrname, s.attrname"
   ]
  },
  {
   "cell_type": "code",
   "execution_count": 11,
   "metadata": {
    "ExecuteTime": {
     "end_time": "2017-05-15T11:53:27.625498Z",
     "start_time": "2017-05-15T11:53:27.603871Z"
    }
   },
   "outputs": [
    {
     "name": "stdout",
     "output_type": "stream",
     "text": [
      " __add__ <method-wrapper '__add__' of str object at 0x10e688418>\n",
      "__class__ <type 'str'>\n",
      "__contains__ <method-wrapper '__contains__' of str object at 0x10e688418>\n",
      "__delattr__ <method-wrapper '__delattr__' of str object at 0x10e688418>\n",
      "__doc__ str(object='') -> string\n",
      "\n",
      "Return a nice string representation of the object.\n",
      "If the argument is a string, the return value is the same object.\n",
      "__eq__ <method-wrapper '__eq__' of str object at 0x10e688418>\n",
      "__format__ <built-in method __format__ of str object at 0x10e688418>\n",
      "__ge__ <method-wrapper '__ge__' of str object at 0x10e688418>\n",
      "__getattribute__ <method-wrapper '__getattribute__' of str object at 0x10e688418>\n",
      "__getitem__ <method-wrapper '__getitem__' of str object at 0x10e688418>\n",
      "__getnewargs__ <built-in method __getnewargs__ of str object at 0x10e688418>\n",
      "__getslice__ <method-wrapper '__getslice__' of str object at 0x10e688418>\n",
      "__gt__ <method-wrapper '__gt__' of str object at 0x10e688418>\n",
      "__hash__ <method-wrapper '__hash__' of str object at 0x10e688418>\n",
      "__init__ <method-wrapper '__init__' of str object at 0x10e688418>\n",
      "__le__ <method-wrapper '__le__' of str object at 0x10e688418>\n",
      "__len__ <method-wrapper '__len__' of str object at 0x10e688418>\n",
      "__lt__ <method-wrapper '__lt__' of str object at 0x10e688418>\n",
      "__mod__ <method-wrapper '__mod__' of str object at 0x10e688418>\n",
      "__mul__ <method-wrapper '__mul__' of str object at 0x10e688418>\n",
      "__ne__ <method-wrapper '__ne__' of str object at 0x10e688418>\n",
      "__new__ <built-in method __new__ of type object at 0x10e161420>\n",
      "__reduce__ <built-in method __reduce__ of str object at 0x10e688418>\n",
      "__reduce_ex__ <built-in method __reduce_ex__ of str object at 0x10e688418>\n",
      "__repr__ <method-wrapper '__repr__' of str object at 0x10e688418>\n",
      "__rmod__ <method-wrapper '__rmod__' of str object at 0x10e688418>\n",
      "__rmul__ <method-wrapper '__rmul__' of str object at 0x10e688418>\n",
      "__setattr__ <method-wrapper '__setattr__' of str object at 0x10e688418>\n",
      "__sizeof__ <built-in method __sizeof__ of str object at 0x10e688418>\n",
      "__str__ <method-wrapper '__str__' of str object at 0x10e688418>\n",
      "__subclasshook__ <built-in method __subclasshook__ of type object at 0x10e161420>\n",
      "_formatter_field_name_split <built-in method _formatter_field_name_split of str object at 0x10e688418>\n",
      "_formatter_parser <built-in method _formatter_parser of str object at 0x10e688418>\n",
      "capitalize <built-in method capitalize of str object at 0x10e688418>\n",
      "center <built-in method center of str object at 0x10e688418>\n",
      "count <built-in method count of str object at 0x10e688418>\n",
      "decode <built-in method decode of str object at 0x10e688418>\n",
      "encode <built-in method encode of str object at 0x10e688418>\n",
      "endswith <built-in method endswith of str object at 0x10e688418>\n",
      "expandtabs <built-in method expandtabs of str object at 0x10e688418>\n",
      "find <built-in method find of str object at 0x10e688418>\n",
      "format <built-in method format of str object at 0x10e688418>\n",
      "index <built-in method index of str object at 0x10e688418>\n",
      "isalnum <built-in method isalnum of str object at 0x10e688418>\n",
      "isalpha <built-in method isalpha of str object at 0x10e688418>\n",
      "isdigit <built-in method isdigit of str object at 0x10e688418>\n",
      "islower <built-in method islower of str object at 0x10e688418>\n",
      "isspace <built-in method isspace of str object at 0x10e688418>\n",
      "istitle <built-in method istitle of str object at 0x10e688418>\n",
      "isupper <built-in method isupper of str object at 0x10e688418>\n",
      "join <built-in method join of str object at 0x10e688418>\n",
      "ljust <built-in method ljust of str object at 0x10e688418>\n",
      "lower <built-in method lower of str object at 0x10e688418>\n",
      "lstrip <built-in method lstrip of str object at 0x10e688418>\n",
      "partition <built-in method partition of str object at 0x10e688418>\n",
      "replace <built-in method replace of str object at 0x10e688418>\n",
      "rfind <built-in method rfind of str object at 0x10e688418>\n",
      "rindex <built-in method rindex of str object at 0x10e688418>\n",
      "rjust <built-in method rjust of str object at 0x10e688418>\n",
      "rpartition <built-in method rpartition of str object at 0x10e688418>\n",
      "rsplit <built-in method rsplit of str object at 0x10e688418>\n",
      "rstrip <built-in method rstrip of str object at 0x10e688418>\n",
      "split <built-in method split of str object at 0x10e688418>\n",
      "splitlines <built-in method splitlines of str object at 0x10e688418>\n",
      "startswith <built-in method startswith of str object at 0x10e688418>\n",
      "strip <built-in method strip of str object at 0x10e688418>\n",
      "swapcase <built-in method swapcase of str object at 0x10e688418>\n",
      "title <built-in method title of str object at 0x10e688418>\n",
      "translate <built-in method translate of str object at 0x10e688418>\n",
      "upper <built-in method upper of str object at 0x10e688418>\n",
      "zfill <built-in method zfill of str object at 0x10e688418>\n"
     ]
    }
   ],
   "source": [
    "for attrname in dir(s):\n",
    "    print attrname, getattr(s, attrname)"
   ]
  },
  {
   "cell_type": "code",
   "execution_count": 12,
   "metadata": {
    "ExecuteTime": {
     "end_time": "2017-05-15T11:53:44.580209Z",
     "start_time": "2017-05-15T11:53:44.575417Z"
    }
   },
   "outputs": [
    {
     "data": {
      "text/plain": [
       "<function upper>"
      ]
     },
     "execution_count": 12,
     "metadata": {},
     "output_type": "execute_result"
    }
   ],
   "source": [
    "s.upper"
   ]
  },
  {
   "cell_type": "code",
   "execution_count": 13,
   "metadata": {
    "ExecuteTime": {
     "end_time": "2017-05-15T11:53:48.148120Z",
     "start_time": "2017-05-15T11:53:48.142960Z"
    }
   },
   "outputs": [
    {
     "data": {
      "text/plain": [
       "<function upper>"
      ]
     },
     "execution_count": 13,
     "metadata": {},
     "output_type": "execute_result"
    }
   ],
   "source": [
    "getattr(s, 'upper')"
   ]
  },
  {
   "cell_type": "code",
   "execution_count": 15,
   "metadata": {
    "ExecuteTime": {
     "end_time": "2017-05-15T11:55:04.874722Z",
     "start_time": "2017-05-15T11:54:48.050888Z"
    }
   },
   "outputs": [
    {
     "name": "stdout",
     "output_type": "stream",
     "text": [
      "Enter attribute name: title\n",
      "<built-in method title of str object at 0x10e688418>\n",
      "Enter attribute name: upcase\n",
      "I don't know what upcase is\n",
      "Enter attribute name: asdfafafas\n",
      "I don't know what asdfafafas is\n",
      "Enter attribute name: \n"
     ]
    }
   ],
   "source": [
    "while True:\n",
    "    attrname = raw_input(\"Enter attribute name: \").strip()\n",
    "    \n",
    "    if not attrname:  # if I got an empty string\n",
    "        break\n",
    "    elif attrname in dir(s):\n",
    "        print getattr(s, attrname)\n",
    "    else:\n",
    "        print \"I don't know what {} is\".format(attrname)"
   ]
  },
  {
   "cell_type": "code",
   "execution_count": 16,
   "metadata": {
    "ExecuteTime": {
     "end_time": "2017-05-15T11:55:26.744640Z",
     "start_time": "2017-05-15T11:55:26.740094Z"
    }
   },
   "outputs": [
    {
     "data": {
      "text/plain": [
       "<function upper>"
      ]
     },
     "execution_count": 16,
     "metadata": {},
     "output_type": "execute_result"
    }
   ],
   "source": [
    "s.upper"
   ]
  },
  {
   "cell_type": "code",
   "execution_count": 17,
   "metadata": {
    "ExecuteTime": {
     "end_time": "2017-05-15T11:55:29.432236Z",
     "start_time": "2017-05-15T11:55:29.427343Z"
    }
   },
   "outputs": [
    {
     "data": {
      "text/plain": [
       "'ABC'"
      ]
     },
     "execution_count": 17,
     "metadata": {},
     "output_type": "execute_result"
    }
   ],
   "source": [
    "s.upper()"
   ]
  },
  {
   "cell_type": "code",
   "execution_count": 18,
   "metadata": {
    "ExecuteTime": {
     "end_time": "2017-05-15T11:55:44.684399Z",
     "start_time": "2017-05-15T11:55:44.671475Z"
    }
   },
   "outputs": [
    {
     "ename": "TypeError",
     "evalue": "'int' object is not callable",
     "output_type": "error",
     "traceback": [
      "\u001b[0;31m---------------------------------------------------------------------------\u001b[0m",
      "\u001b[0;31mTypeError\u001b[0m                                 Traceback (most recent call last)",
      "\u001b[0;32m<ipython-input-18-2b14d13c234b>\u001b[0m in \u001b[0;36m<module>\u001b[0;34m()\u001b[0m\n\u001b[0;32m----> 1\u001b[0;31m \u001b[0;36m5\u001b[0m\u001b[0;34m(\u001b[0m\u001b[0;34m)\u001b[0m\u001b[0;34m\u001b[0m\u001b[0m\n\u001b[0m",
      "\u001b[0;31mTypeError\u001b[0m: 'int' object is not callable"
     ]
    }
   ],
   "source": [
    "5()"
   ]
  },
  {
   "cell_type": "code",
   "execution_count": 19,
   "metadata": {
    "ExecuteTime": {
     "end_time": "2017-05-15T11:55:59.173047Z",
     "start_time": "2017-05-15T11:55:59.168351Z"
    }
   },
   "outputs": [
    {
     "data": {
      "text/plain": [
       "<method-wrapper '__call__' of builtin_function_or_method object at 0x10f06c710>"
      ]
     },
     "execution_count": 19,
     "metadata": {},
     "output_type": "execute_result"
    }
   ],
   "source": [
    "s.upper.__call__"
   ]
  },
  {
   "cell_type": "code",
   "execution_count": 20,
   "metadata": {
    "ExecuteTime": {
     "end_time": "2017-05-15T11:56:05.006024Z",
     "start_time": "2017-05-15T11:56:05.001416Z"
    }
   },
   "outputs": [
    {
     "data": {
      "text/plain": [
       "True"
      ]
     },
     "execution_count": 20,
     "metadata": {},
     "output_type": "execute_result"
    }
   ],
   "source": [
    "hasattr(s, 'upper')"
   ]
  },
  {
   "cell_type": "code",
   "execution_count": 21,
   "metadata": {
    "ExecuteTime": {
     "end_time": "2017-05-15T11:56:19.115378Z",
     "start_time": "2017-05-15T11:56:19.112055Z"
    },
    "collapsed": true
   },
   "outputs": [],
   "source": [
    "import sys\n"
   ]
  },
  {
   "cell_type": "code",
   "execution_count": 22,
   "metadata": {
    "ExecuteTime": {
     "end_time": "2017-05-15T11:56:21.564546Z",
     "start_time": "2017-05-15T11:56:21.559780Z"
    }
   },
   "outputs": [
    {
     "data": {
      "text/plain": [
       "'2.7.13 (default, Dec 18 2016, 07:03:39) \\n[GCC 4.2.1 Compatible Apple LLVM 8.0.0 (clang-800.0.42.1)]'"
      ]
     },
     "execution_count": 22,
     "metadata": {},
     "output_type": "execute_result"
    }
   ],
   "source": [
    "sys.version"
   ]
  },
  {
   "cell_type": "code",
   "execution_count": 23,
   "metadata": {
    "ExecuteTime": {
     "end_time": "2017-05-15T11:56:27.731167Z",
     "start_time": "2017-05-15T11:56:27.728495Z"
    },
    "collapsed": true
   },
   "outputs": [],
   "source": [
    "sys.version = '4.0.0'"
   ]
  },
  {
   "cell_type": "code",
   "execution_count": 24,
   "metadata": {
    "ExecuteTime": {
     "end_time": "2017-05-15T11:56:30.374381Z",
     "start_time": "2017-05-15T11:56:30.369586Z"
    }
   },
   "outputs": [
    {
     "data": {
      "text/plain": [
       "'4.0.0'"
      ]
     },
     "execution_count": 24,
     "metadata": {},
     "output_type": "execute_result"
    }
   ],
   "source": [
    "sys.version"
   ]
  },
  {
   "cell_type": "code",
   "execution_count": 25,
   "metadata": {
    "ExecuteTime": {
     "end_time": "2017-05-15T11:57:01.552883Z",
     "start_time": "2017-05-15T11:57:01.549236Z"
    },
    "collapsed": true
   },
   "outputs": [],
   "source": [
    "def foo():\n",
    "    return 5\n",
    "\n",
    "foo.x = 100"
   ]
  },
  {
   "cell_type": "code",
   "execution_count": 26,
   "metadata": {
    "ExecuteTime": {
     "end_time": "2017-05-15T11:58:14.537896Z",
     "start_time": "2017-05-15T11:58:14.534340Z"
    },
    "collapsed": true
   },
   "outputs": [],
   "source": [
    "def hello(name):\n",
    "    return \"Hello, {}\".format(name)"
   ]
  },
  {
   "cell_type": "code",
   "execution_count": 27,
   "metadata": {
    "ExecuteTime": {
     "end_time": "2017-05-15T11:58:16.970715Z",
     "start_time": "2017-05-15T11:58:16.965826Z"
    }
   },
   "outputs": [
    {
     "data": {
      "text/plain": [
       "'Hello, world'"
      ]
     },
     "execution_count": 27,
     "metadata": {},
     "output_type": "execute_result"
    }
   ],
   "source": [
    "hello('world')"
   ]
  },
  {
   "cell_type": "code",
   "execution_count": 28,
   "metadata": {
    "ExecuteTime": {
     "end_time": "2017-05-15T11:58:19.667133Z",
     "start_time": "2017-05-15T11:58:19.662580Z"
    }
   },
   "outputs": [
    {
     "data": {
      "text/plain": [
       "'Hello, 123'"
      ]
     },
     "execution_count": 28,
     "metadata": {},
     "output_type": "execute_result"
    }
   ],
   "source": [
    "hello(123)"
   ]
  },
  {
   "cell_type": "code",
   "execution_count": 29,
   "metadata": {
    "ExecuteTime": {
     "end_time": "2017-05-15T11:58:21.835538Z",
     "start_time": "2017-05-15T11:58:21.830818Z"
    }
   },
   "outputs": [
    {
     "data": {
      "text/plain": [
       "'Hello, <function hello at 0x1103f2e60>'"
      ]
     },
     "execution_count": 29,
     "metadata": {},
     "output_type": "execute_result"
    }
   ],
   "source": [
    "hello(hello)"
   ]
  },
  {
   "cell_type": "code",
   "execution_count": 30,
   "metadata": {
    "ExecuteTime": {
     "end_time": "2017-05-15T11:59:07.822121Z",
     "start_time": "2017-05-15T11:59:07.817310Z"
    },
    "collapsed": true
   },
   "outputs": [],
   "source": [
    "class Foo(object):\n",
    "    def __init__(self, x):\n",
    "        self.x = x\n",
    "        \n",
    "    def __add__(self, other):\n",
    "        return Foo(self.x + other.x)"
   ]
  },
  {
   "cell_type": "code",
   "execution_count": 31,
   "metadata": {
    "ExecuteTime": {
     "end_time": "2017-05-15T11:59:13.325048Z",
     "start_time": "2017-05-15T11:59:13.321875Z"
    },
    "collapsed": true
   },
   "outputs": [],
   "source": [
    "f = Foo(10)"
   ]
  },
  {
   "cell_type": "code",
   "execution_count": 32,
   "metadata": {
    "ExecuteTime": {
     "end_time": "2017-05-15T11:59:16.414349Z",
     "start_time": "2017-05-15T11:59:16.409325Z"
    }
   },
   "outputs": [
    {
     "data": {
      "text/plain": [
       "10"
      ]
     },
     "execution_count": 32,
     "metadata": {},
     "output_type": "execute_result"
    }
   ],
   "source": [
    "f.x"
   ]
  },
  {
   "cell_type": "code",
   "execution_count": 33,
   "metadata": {
    "ExecuteTime": {
     "end_time": "2017-05-15T12:00:46.733304Z",
     "start_time": "2017-05-15T12:00:46.729683Z"
    },
    "collapsed": true
   },
   "outputs": [],
   "source": [
    "class Foo(object):\n",
    "    pass\n",
    "\n"
   ]
  },
  {
   "cell_type": "code",
   "execution_count": 34,
   "metadata": {
    "ExecuteTime": {
     "end_time": "2017-05-15T12:01:00.317269Z",
     "start_time": "2017-05-15T12:01:00.313670Z"
    },
    "collapsed": true
   },
   "outputs": [],
   "source": [
    "f = Foo()\n",
    "f.x = 100\n",
    "f.y = {'a':1, 'b':2, 'c':3}"
   ]
  },
  {
   "cell_type": "code",
   "execution_count": 35,
   "metadata": {
    "ExecuteTime": {
     "end_time": "2017-05-15T12:01:04.240411Z",
     "start_time": "2017-05-15T12:01:04.235515Z"
    }
   },
   "outputs": [
    {
     "data": {
      "text/plain": [
       "{'x': 100, 'y': {'a': 1, 'b': 2, 'c': 3}}"
      ]
     },
     "execution_count": 35,
     "metadata": {},
     "output_type": "execute_result"
    }
   ],
   "source": [
    "vars(f)"
   ]
  },
  {
   "cell_type": "code",
   "execution_count": 36,
   "metadata": {
    "ExecuteTime": {
     "end_time": "2017-05-15T12:01:23.077987Z",
     "start_time": "2017-05-15T12:01:23.074200Z"
    },
    "collapsed": true
   },
   "outputs": [],
   "source": [
    "g = Foo()\n",
    "g.a = [1,2,3]\n",
    "g.b = 'hello'"
   ]
  },
  {
   "cell_type": "code",
   "execution_count": 37,
   "metadata": {
    "ExecuteTime": {
     "end_time": "2017-05-15T12:01:25.021595Z",
     "start_time": "2017-05-15T12:01:25.017018Z"
    }
   },
   "outputs": [
    {
     "data": {
      "text/plain": [
       "{'a': [1, 2, 3], 'b': 'hello'}"
      ]
     },
     "execution_count": 37,
     "metadata": {},
     "output_type": "execute_result"
    }
   ],
   "source": [
    "vars(g)"
   ]
  },
  {
   "cell_type": "code",
   "execution_count": 38,
   "metadata": {
    "ExecuteTime": {
     "end_time": "2017-05-15T12:02:55.571558Z",
     "start_time": "2017-05-15T12:02:55.564777Z"
    }
   },
   "outputs": [
    {
     "data": {
      "text/plain": [
       "{'x': 10, 'y': [1, 2, 3]}"
      ]
     },
     "execution_count": 38,
     "metadata": {},
     "output_type": "execute_result"
    }
   ],
   "source": [
    "class Foo(object):\n",
    "    def __init__(self, x, y):\n",
    "        self.x = x\n",
    "        self.y = y\n",
    "        \n",
    "f = Foo(10, [1,2,3])\n",
    "vars(f)"
   ]
  },
  {
   "cell_type": "code",
   "execution_count": 51,
   "metadata": {
    "ExecuteTime": {
     "end_time": "2017-05-15T12:17:43.424243Z",
     "start_time": "2017-05-15T12:17:43.413211Z"
    }
   },
   "outputs": [
    {
     "name": "stdout",
     "output_type": "stream",
     "text": [
      "population = 0\n",
      "population = 2\n",
      "p1.population = 2\n",
      "p2.population = 2\n",
      "Hello, name1\n"
     ]
    }
   ],
   "source": [
    "class Person(object):\n",
    "    population = 0\n",
    "    def __init__(self, name):\n",
    "        self.name = name\n",
    "        Person.population = self.population + 1  \n",
    "    def hello(self):\n",
    "        return \"Hello, {}\".format(self.name)\n",
    "\n",
    "      \n",
    "print \"population = {}\".format(Person.population)\n",
    "p1 = Person('name1')\n",
    "p2 = Person('name2')\n",
    "print \"population = {}\".format(Person.population)\n",
    "print \"p1.population = {}\".format(p1.population)\n",
    "print \"p2.population = {}\".format(p2.population)\n",
    "\n",
    "print p1.hello()"
   ]
  },
  {
   "cell_type": "code",
   "execution_count": 46,
   "metadata": {
    "ExecuteTime": {
     "end_time": "2017-05-15T12:13:18.123149Z",
     "start_time": "2017-05-15T12:13:18.108843Z"
    }
   },
   "outputs": [
    {
     "ename": "AttributeError",
     "evalue": "'Person' object has no attribute 'thing'",
     "output_type": "error",
     "traceback": [
      "\u001b[0;31m---------------------------------------------------------------------------\u001b[0m",
      "\u001b[0;31mAttributeError\u001b[0m                            Traceback (most recent call last)",
      "\u001b[0;32m<ipython-input-46-a9c68ce1dae5>\u001b[0m in \u001b[0;36m<module>\u001b[0;34m()\u001b[0m\n\u001b[0;32m----> 1\u001b[0;31m \u001b[0mp1\u001b[0m\u001b[0;34m.\u001b[0m\u001b[0mthing\u001b[0m\u001b[0;34m\u001b[0m\u001b[0m\n\u001b[0m",
      "\u001b[0;31mAttributeError\u001b[0m: 'Person' object has no attribute 'thing'"
     ]
    }
   ],
   "source": [
    "p1.thing"
   ]
  },
  {
   "cell_type": "code",
   "execution_count": 47,
   "metadata": {
    "ExecuteTime": {
     "end_time": "2017-05-15T12:13:26.663836Z",
     "start_time": "2017-05-15T12:13:26.659555Z"
    }
   },
   "outputs": [
    {
     "data": {
      "text/plain": [
       "'hello'"
      ]
     },
     "execution_count": 47,
     "metadata": {},
     "output_type": "execute_result"
    }
   ],
   "source": [
    "Person.thing = 'hello'\n",
    "\n",
    "p1.thing"
   ]
  },
  {
   "cell_type": "code",
   "execution_count": 54,
   "metadata": {
    "ExecuteTime": {
     "end_time": "2017-05-15T12:21:50.031566Z",
     "start_time": "2017-05-15T12:21:50.023102Z"
    }
   },
   "outputs": [
    {
     "data": {
      "text/plain": [
       "'Hello, emp1'"
      ]
     },
     "execution_count": 54,
     "metadata": {},
     "output_type": "execute_result"
    }
   ],
   "source": [
    "class Person(object):\n",
    "    def __init__(self, name):\n",
    "        self.name = name\n",
    "    def hello(self):\n",
    "        return \"Hello, {}\".format(self.name)\n",
    "    \n",
    "class Employee(Person):\n",
    "    def __init__(self, name, id_number):\n",
    "        Person.__init__(self, name)\n",
    "        self.id_number = id_number\n",
    "        \n",
    "e = Employee('emp1', 1)\n",
    "e.hello()"
   ]
  },
  {
   "cell_type": "code",
   "execution_count": 55,
   "metadata": {
    "ExecuteTime": {
     "end_time": "2017-05-15T12:22:41.272269Z",
     "start_time": "2017-05-15T12:22:41.266783Z"
    }
   },
   "outputs": [
    {
     "data": {
      "text/plain": [
       "'Hello, emp1'"
      ]
     },
     "execution_count": 55,
     "metadata": {},
     "output_type": "execute_result"
    }
   ],
   "source": [
    "e.hello()"
   ]
  },
  {
   "cell_type": "code",
   "execution_count": 56,
   "metadata": {
    "ExecuteTime": {
     "end_time": "2017-05-15T12:22:44.889288Z",
     "start_time": "2017-05-15T12:22:44.884966Z"
    }
   },
   "outputs": [
    {
     "data": {
      "text/plain": [
       "'Hello, emp1'"
      ]
     },
     "execution_count": 56,
     "metadata": {},
     "output_type": "execute_result"
    }
   ],
   "source": [
    "Person.hello(e)"
   ]
  },
  {
   "cell_type": "raw",
   "metadata": {},
   "source": [
    "OBJECT.METHOD()   # CLASS.METHOD(OBJECT)"
   ]
  },
  {
   "cell_type": "code",
   "execution_count": 57,
   "metadata": {
    "ExecuteTime": {
     "end_time": "2017-05-15T12:23:32.058847Z",
     "start_time": "2017-05-15T12:23:32.054271Z"
    }
   },
   "outputs": [
    {
     "data": {
      "text/plain": [
       "'ABC'"
      ]
     },
     "execution_count": 57,
     "metadata": {},
     "output_type": "execute_result"
    }
   ],
   "source": [
    "s = 'abc'\n",
    "s.upper()"
   ]
  },
  {
   "cell_type": "code",
   "execution_count": 58,
   "metadata": {
    "ExecuteTime": {
     "end_time": "2017-05-15T12:23:34.673738Z",
     "start_time": "2017-05-15T12:23:34.669122Z"
    }
   },
   "outputs": [
    {
     "data": {
      "text/plain": [
       "'ABC'"
      ]
     },
     "execution_count": 58,
     "metadata": {},
     "output_type": "execute_result"
    }
   ],
   "source": [
    "str.upper(s)"
   ]
  },
  {
   "cell_type": "code",
   "execution_count": 59,
   "metadata": {
    "ExecuteTime": {
     "end_time": "2017-05-15T12:23:56.311117Z",
     "start_time": "2017-05-15T12:23:56.306241Z"
    }
   },
   "outputs": [
    {
     "data": {
      "text/plain": [
       "str"
      ]
     },
     "execution_count": 59,
     "metadata": {},
     "output_type": "execute_result"
    }
   ],
   "source": [
    "type(s)"
   ]
  },
  {
   "cell_type": "code",
   "execution_count": 60,
   "metadata": {
    "ExecuteTime": {
     "end_time": "2017-05-15T12:24:05.302600Z",
     "start_time": "2017-05-15T12:24:05.297977Z"
    }
   },
   "outputs": [
    {
     "data": {
      "text/plain": [
       "4536697880"
      ]
     },
     "execution_count": 60,
     "metadata": {},
     "output_type": "execute_result"
    }
   ],
   "source": [
    "id(s)"
   ]
  },
  {
   "cell_type": "code",
   "execution_count": 61,
   "metadata": {
    "ExecuteTime": {
     "end_time": "2017-05-15T12:24:31.042038Z",
     "start_time": "2017-05-15T12:24:31.037407Z"
    }
   },
   "outputs": [
    {
     "data": {
      "text/plain": [
       "instancemethod"
      ]
     },
     "execution_count": 61,
     "metadata": {},
     "output_type": "execute_result"
    }
   ],
   "source": [
    "type(Person.hello)"
   ]
  },
  {
   "cell_type": "code",
   "execution_count": 62,
   "metadata": {
    "ExecuteTime": {
     "end_time": "2017-05-15T12:24:47.713434Z",
     "start_time": "2017-05-15T12:24:47.708766Z"
    }
   },
   "outputs": [
    {
     "data": {
      "text/plain": [
       "4564863008"
      ]
     },
     "execution_count": 62,
     "metadata": {},
     "output_type": "execute_result"
    }
   ],
   "source": [
    "id(Person.hello)"
   ]
  },
  {
   "cell_type": "code",
   "execution_count": 63,
   "metadata": {
    "ExecuteTime": {
     "end_time": "2017-05-15T12:24:52.858233Z",
     "start_time": "2017-05-15T12:24:52.853500Z"
    }
   },
   "outputs": [
    {
     "data": {
      "text/plain": [
       "4564980432"
      ]
     },
     "execution_count": 63,
     "metadata": {},
     "output_type": "execute_result"
    }
   ],
   "source": [
    "id(Person.hello)"
   ]
  },
  {
   "cell_type": "code",
   "execution_count": 64,
   "metadata": {
    "ExecuteTime": {
     "end_time": "2017-05-15T12:24:56.994122Z",
     "start_time": "2017-05-15T12:24:56.989733Z"
    }
   },
   "outputs": [
    {
     "data": {
      "text/plain": [
       "4564863408"
      ]
     },
     "execution_count": 64,
     "metadata": {},
     "output_type": "execute_result"
    }
   ],
   "source": [
    "id(Person.hello)"
   ]
  },
  {
   "cell_type": "code",
   "execution_count": 65,
   "metadata": {
    "ExecuteTime": {
     "end_time": "2017-05-15T12:25:43.245550Z",
     "start_time": "2017-05-15T12:25:43.240380Z"
    }
   },
   "outputs": [
    {
     "data": {
      "text/plain": [
       "dict_proxy({'__dict__': <attribute '__dict__' of 'Person' objects>,\n",
       "            '__doc__': None,\n",
       "            '__init__': <function __main__.__init__>,\n",
       "            '__module__': '__main__',\n",
       "            '__weakref__': <attribute '__weakref__' of 'Person' objects>,\n",
       "            'hello': <function __main__.hello>})"
      ]
     },
     "execution_count": 65,
     "metadata": {},
     "output_type": "execute_result"
    }
   ],
   "source": [
    "Person.__dict__"
   ]
  },
  {
   "cell_type": "code",
   "execution_count": 67,
   "metadata": {
    "ExecuteTime": {
     "end_time": "2017-05-15T12:26:00.331483Z",
     "start_time": "2017-05-15T12:26:00.327001Z"
    }
   },
   "outputs": [
    {
     "data": {
      "text/plain": [
       "'Hello, emp1'"
      ]
     },
     "execution_count": 67,
     "metadata": {},
     "output_type": "execute_result"
    }
   ],
   "source": [
    "Person.__dict__['hello'](e)"
   ]
  },
  {
   "cell_type": "code",
   "execution_count": 68,
   "metadata": {
    "ExecuteTime": {
     "end_time": "2017-05-15T12:26:26.729639Z",
     "start_time": "2017-05-15T12:26:26.726733Z"
    },
    "collapsed": true
   },
   "outputs": [],
   "source": [
    "# descriptor protocol"
   ]
  },
  {
   "cell_type": "code",
   "execution_count": 69,
   "metadata": {
    "ExecuteTime": {
     "end_time": "2017-05-15T12:27:39.839008Z",
     "start_time": "2017-05-15T12:27:39.834397Z"
    },
    "collapsed": true
   },
   "outputs": [],
   "source": [
    "class Thermostat(object):\n",
    "    def __init__(self):\n",
    "        self.temp = 20\n",
    "\n",
    "t = Thermostat()\n",
    "t.temp = 100"
   ]
  },
  {
   "cell_type": "code",
   "execution_count": 70,
   "metadata": {
    "ExecuteTime": {
     "end_time": "2017-05-15T12:27:43.181657Z",
     "start_time": "2017-05-15T12:27:43.178418Z"
    },
    "collapsed": true
   },
   "outputs": [],
   "source": [
    "t.temp = 0"
   ]
  },
  {
   "cell_type": "code",
   "execution_count": 73,
   "metadata": {
    "ExecuteTime": {
     "end_time": "2017-05-15T12:31:26.369283Z",
     "start_time": "2017-05-15T12:31:26.356221Z"
    }
   },
   "outputs": [
    {
     "name": "stdout",
     "output_type": "stream",
     "text": [
      "setting temp\n",
      "Too high!\n",
      "getting temp\n",
      "35\n",
      "setting temp\n",
      "Too low!\n",
      "getting temp\n",
      "0\n"
     ]
    }
   ],
   "source": [
    "class Thermostat(object):\n",
    "    def __init__(self):\n",
    "        self._temp = 20  # now it's private!\n",
    "        \n",
    "    @property\n",
    "    def temp(self):\n",
    "        print \"getting temp\"\n",
    "        return self._temp\n",
    "    \n",
    "    @temp.setter\n",
    "    def temp(self, new_temp):\n",
    "        print \"setting temp\"\n",
    "        if new_temp > 35:\n",
    "            print \"Too high!\"\n",
    "            new_temp = 35\n",
    "        elif new_temp < 0:\n",
    "            print \"Too low!\"\n",
    "            new_temp = 0\n",
    "            \n",
    "        self._temp = new_temp\n",
    "\n",
    "t = Thermostat()\n",
    "t.temp = 100\n",
    "print t.temp\n",
    "t.temp = -40\n",
    "print t.temp"
   ]
  },
  {
   "cell_type": "code",
   "execution_count": 78,
   "metadata": {
    "ExecuteTime": {
     "end_time": "2017-05-15T12:36:45.514747Z",
     "start_time": "2017-05-15T12:36:45.503594Z"
    }
   },
   "outputs": [
    {
     "name": "stdout",
     "output_type": "stream",
     "text": [
      "20\n",
      "20\n"
     ]
    }
   ],
   "source": [
    "# Temp will be a descriptor!\n",
    "class Temp(object):\n",
    "    def __get__(self, obj, objtype):\n",
    "        return self.temp\n",
    "    def __set__(self, obj, newval):\n",
    "        if newval > 35:\n",
    "            newval = 35\n",
    "        if newval < 0:\n",
    "            newval = 0\n",
    "        self.temp = newval\n",
    "\n",
    "class Thermostat(object):\n",
    "    temp = Temp()  # temp is a class attribute, instance of Temp\n",
    "    \n",
    "t1 = Thermostat()\n",
    "t2 = Thermostat()\n",
    "\n",
    "t1.temp = 100\n",
    "t2.temp = 20\n",
    "\n",
    "print t1.temp\n",
    "print t2.temp"
   ]
  },
  {
   "cell_type": "code",
   "execution_count": 81,
   "metadata": {
    "ExecuteTime": {
     "end_time": "2017-05-15T12:39:30.882878Z",
     "start_time": "2017-05-15T12:39:30.869772Z"
    }
   },
   "outputs": [
    {
     "name": "stdout",
     "output_type": "stream",
     "text": [
      "35\n",
      "20\n"
     ]
    }
   ],
   "source": [
    "# Temp will be a descriptor!\n",
    "class Temp(object):\n",
    "    def __init__(self):\n",
    "        self.temp = {}\n",
    "    def __get__(self, obj, objtype):\n",
    "        return self.temp[obj]\n",
    "    def __set__(self, obj, newval):\n",
    "        if newval > 35:\n",
    "            newval = 35\n",
    "        if newval < 0:\n",
    "            newval = 0\n",
    "        self.temp[obj] = newval\n",
    "\n",
    "class Thermostat(object):\n",
    "    temp = Temp()  # temp is a class attribute, instance of Temp\n",
    "    \n",
    "t1 = Thermostat()\n",
    "t2 = Thermostat()\n",
    "\n",
    "t1.temp = 100\n",
    "t2.temp = 20\n",
    "\n",
    "print t1.temp\n",
    "print t2.temp"
   ]
  },
  {
   "cell_type": "code",
   "execution_count": null,
   "metadata": {
    "collapsed": true
   },
   "outputs": [],
   "source": []
  }
 ],
 "metadata": {
  "kernelspec": {
   "display_name": "Python 2",
   "language": "python",
   "name": "python2"
  },
  "language_info": {
   "codemirror_mode": {
    "name": "ipython",
    "version": 2
   },
   "file_extension": ".py",
   "mimetype": "text/x-python",
   "name": "python",
   "nbconvert_exporter": "python",
   "pygments_lexer": "ipython2",
   "version": "2.7.13"
  }
 },
 "nbformat": 4,
 "nbformat_minor": 2
}
