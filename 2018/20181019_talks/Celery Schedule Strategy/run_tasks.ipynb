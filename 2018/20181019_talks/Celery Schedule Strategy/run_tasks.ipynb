{
 "cells": [
  {
   "cell_type": "code",
   "execution_count": 1,
   "metadata": {},
   "outputs": [
    {
     "name": "stdout",
     "output_type": "stream",
     "text": [
      "start:\t 2018-10-19 20:10:13.982259\n",
      "end:\t 2018-10-19 20:10:14.147562\n"
     ]
    }
   ],
   "source": [
    "from tasks import show\n",
    "from datetime import datetime\n",
    "\n",
    "print('start:\\t', datetime.now())\n",
    "show.delay(\"1\", 2)\n",
    "show.delay(\"2\", 20)\n",
    "show.delay(\"3\", 3)\n",
    "show.delay(\"4\", 4)\n",
    "show.delay(\"5\", 6)\n",
    "show.delay(\"6\", 5)\n",
    "show.delay(\"7\", 3)\n",
    "show.delay(\"8\", 3)\n",
    "show.delay(\"9\", 3)\n",
    "print('end:\\t', datetime.now())\n"
   ]
  },
  {
   "cell_type": "code",
   "execution_count": 5,
   "metadata": {},
   "outputs": [
    {
     "name": "stdout",
     "output_type": "stream",
     "text": [
      "start:\t 2018-10-19 20:29:43.188842\n",
      "end:\t 2018-10-19 20:29:43.213435\n"
     ]
    }
   ],
   "source": [
    "from tasks import show\n",
    "from datetime import datetime\n",
    "\n",
    "print('start:\\t', datetime.now())\n",
    "show.delay(\"1\", 2)\n",
    "show.delay(\"2\", 50)\n",
    "show.delay(\"3\", 3)\n",
    "show.delay(\"4\", 4)\n",
    "show.delay(\"5\", 6)\n",
    "show.delay(\"6\", 5)\n",
    "show.delay(\"7\", 3)\n",
    "show.delay(\"8\", 3)\n",
    "show.delay(\"9\", 3)\n",
    "print('end:\\t', datetime.now())\n"
   ]
  },
  {
   "cell_type": "code",
   "execution_count": null,
   "metadata": {},
   "outputs": [],
   "source": []
  },
  {
   "cell_type": "code",
   "execution_count": null,
   "metadata": {},
   "outputs": [],
   "source": []
  }
 ],
 "metadata": {
  "kernelspec": {
   "display_name": "Python 3",
   "language": "python",
   "name": "python3"
  },
  "language_info": {
   "codemirror_mode": {
    "name": "ipython",
    "version": 3
   },
   "file_extension": ".py",
   "mimetype": "text/x-python",
   "name": "python",
   "nbconvert_exporter": "python",
   "pygments_lexer": "ipython3",
   "version": "3.6.5"
  }
 },
 "nbformat": 4,
 "nbformat_minor": 2
}
